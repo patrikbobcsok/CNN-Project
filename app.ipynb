import streamlit as st
import tensorflow as tf
import numpy as np
import cv2
import json

# Load model
model = tf.keras.models.load_model("cnn_animals10_VGG16_finetuned.h5")

# Load class names
with open("class_names.json", "r") as f:
    class_names = json.load(f)

st.title("🐾 Animal Image Classifier")
st.write("Upload an animal image, and the model will predict its class!")

# File upload
uploaded_file = st.file_uploader("Choose an image...", type=["jpg", "png", "jpeg"])

if uploaded_file is not None:
    # Read image bytes and convert to OpenCV format
    file_bytes = np.asarray(bytearray(uploaded_file.read()), dtype=np.uint8)
    image = cv2.imdecode(file_bytes, 1)  # BGR
    image_rgb = cv2.cvtColor(image, cv2.COLOR_BGR2RGB)

    # Show original image
    st.image(image_rgb, caption="Uploaded Image", use_column_width=True)

    # Preprocess
    img_resized = cv2.resize(image, (160, 160)) / 255.0
    img_resized = np.expand_dims(img_resized, axis=0)

    # Predict
    predictions = model.predict(img_resized)
    predicted_class = class_names[np.argmax(predictions)]
    confidence = np.max(predictions)

    st.subheader("Prediction:")
    st.write(f"**{predicted_class}** ({confidence * 100:.2f}% confidence)")
